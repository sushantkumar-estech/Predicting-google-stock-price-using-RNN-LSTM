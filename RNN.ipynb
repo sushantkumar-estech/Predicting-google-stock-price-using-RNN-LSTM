{
  "nbformat": 4,
  "nbformat_minor": 0,
  "metadata": {
    "colab": {
      "name": "RNN.ipynb",
      "provenance": [],
      "collapsed_sections": [],
      "authorship_tag": "ABX9TyMq5xRcuEGrg1P1kmhlPGeC",
      "include_colab_link": true
    },
    "kernelspec": {
      "name": "python3",
      "display_name": "Python 3"
    },
    "accelerator": "GPU"
  },
  "cells": [
    {
      "cell_type": "markdown",
      "metadata": {
        "id": "view-in-github",
        "colab_type": "text"
      },
      "source": [
        "<a href=\"https://colab.research.google.com/github/sushantkumar-estech/predicting-google-stock-price-using-RNN-LSTM/blob/master/RNN.ipynb\" target=\"_parent\"><img src=\"https://colab.research.google.com/assets/colab-badge.svg\" alt=\"Open In Colab\"/></a>"
      ]
    },
    {
      "cell_type": "code",
      "metadata": {
        "id": "BapuKrYNH_h5",
        "colab_type": "code",
        "colab": {}
      },
      "source": [
        "# Recurrent Neural Network\n",
        "\n",
        "# Part 1 - Date Preprocessing\n",
        "\n",
        "# Importing the libraries\n",
        "import numpy as np\n",
        "import pandas as pd\n",
        "import matplotlib.pyplot as plt"
      ],
      "execution_count": 1,
      "outputs": []
    },
    {
      "cell_type": "code",
      "metadata": {
        "id": "Wvolb5IsIPCU",
        "colab_type": "code",
        "colab": {
          "base_uri": "https://localhost:8080/",
          "height": 122
        },
        "outputId": "68e5a13f-ac0f-4ba1-c8de-94ce5a288718"
      },
      "source": [
        "from google.colab import drive\n",
        "drive.mount('/content/drive')"
      ],
      "execution_count": 2,
      "outputs": [
        {
          "output_type": "stream",
          "text": [
            "Go to this URL in a browser: https://accounts.google.com/o/oauth2/auth?client_id=947318989803-6bn6qk8qdgf4n4g3pfee6491hc0brc4i.apps.googleusercontent.com&redirect_uri=urn%3aietf%3awg%3aoauth%3a2.0%3aoob&response_type=code&scope=email%20https%3a%2f%2fwww.googleapis.com%2fauth%2fdocs.test%20https%3a%2f%2fwww.googleapis.com%2fauth%2fdrive%20https%3a%2f%2fwww.googleapis.com%2fauth%2fdrive.photos.readonly%20https%3a%2f%2fwww.googleapis.com%2fauth%2fpeopleapi.readonly\n",
            "\n",
            "Enter your authorization code:\n",
            "··········\n",
            "Mounted at /content/drive\n"
          ],
          "name": "stdout"
        }
      ]
    },
    {
      "cell_type": "code",
      "metadata": {
        "id": "AON2Y9p5IwEV",
        "colab_type": "code",
        "colab": {}
      },
      "source": [
        "# Importing the training set\n",
        "dataframe_train = pd.read_csv('/content/drive/My Drive/ML_Dataset/RNN/Google_Stock_Price_Train.csv')\n",
        "training_set = dataframe_train.iloc[:,1:2].values  # made the numpy array"
      ],
      "execution_count": 3,
      "outputs": []
    },
    {
      "cell_type": "code",
      "metadata": {
        "id": "fWU28gV5I4QZ",
        "colab_type": "code",
        "colab": {}
      },
      "source": [
        "# Fature scaling\n",
        "from sklearn.preprocessing import MinMaxScaler\n",
        "sc = MinMaxScaler(feature_range = (0, 1))\n",
        "training_set_scaled = sc.fit_transform(training_set)"
      ],
      "execution_count": 4,
      "outputs": []
    },
    {
      "cell_type": "code",
      "metadata": {
        "id": "56L-w0WjJ07W",
        "colab_type": "code",
        "colab": {}
      },
      "source": [
        "# Creating a data structure with timesteps and 1 output\n",
        "X_train = []\n",
        "y_train = []\n",
        "for i in range(60, 1258):\n",
        "    X_train.append(training_set_scaled[i-60:i, 0])\n",
        "    y_train.append(training_set_scaled[i,0])\n",
        "X_train, y_train = np.array(X_train), np.array(y_train) "
      ],
      "execution_count": 5,
      "outputs": []
    },
    {
      "cell_type": "code",
      "metadata": {
        "id": "x_zhDZjTJ3t0",
        "colab_type": "code",
        "colab": {}
      },
      "source": [
        "# Reshaping to 3D stucture\n",
        "X_train = np.reshape(X_train, (X_train.shape[0], X_train.shape[1], 1))\n"
      ],
      "execution_count": 6,
      "outputs": []
    },
    {
      "cell_type": "code",
      "metadata": {
        "id": "GmF63OdBJ6g5",
        "colab_type": "code",
        "colab": {}
      },
      "source": [
        "# Part 2 - Building the RNN\n",
        "\n",
        "# Importing the Keras libraries and packages\n",
        "from keras.models import Sequential\n",
        "from keras.layers import Dense\n",
        "from keras.layers import LSTM\n",
        "from keras.layers import Dropout"
      ],
      "execution_count": 7,
      "outputs": []
    },
    {
      "cell_type": "code",
      "metadata": {
        "id": "MoktQkASJ96V",
        "colab_type": "code",
        "colab": {}
      },
      "source": [
        "# Initialising the RNN\n",
        "regressor = Sequential()"
      ],
      "execution_count": 8,
      "outputs": []
    },
    {
      "cell_type": "code",
      "metadata": {
        "id": "jkGtsjcWKBrW",
        "colab_type": "code",
        "colab": {}
      },
      "source": [
        "# Adding the first LSTM Layer and soem Dropout regularization\n",
        "regressor.add(LSTM(units = 50, return_sequences = True, input_shape = (X_train.shape[1] , 1)))\n",
        "regressor.add(Dropout(0.20))"
      ],
      "execution_count": 9,
      "outputs": []
    },
    {
      "cell_type": "code",
      "metadata": {
        "id": "yDIUC8aNKE_r",
        "colab_type": "code",
        "colab": {}
      },
      "source": [
        "# Adding a second LSTM layer ans dome Dropout regularization\n",
        "regressor.add(LSTM(units = 50, return_sequences = True, ))\n",
        "regressor.add(Dropout(0.20))\n",
        "\n",
        "# Adding a third LSTM layer ans dome Dropout regularization\n",
        "regressor.add(LSTM(units = 50, return_sequences = True, ))\n",
        "regressor.add(Dropout(0.20))\n",
        "\n",
        "# Adding a fourth LSTM layer ans dome Dropout regularization\n",
        "regressor.add(LSTM(units = 50, return_sequences = False))\n",
        "regressor.add(Dropout(0.20))\n",
        "\n",
        "# Adding the output layer\n",
        "regressor.add(Dense(units = 1))"
      ],
      "execution_count": 10,
      "outputs": []
    },
    {
      "cell_type": "code",
      "metadata": {
        "id": "3Tz5P7-aKIgE",
        "colab_type": "code",
        "colab": {}
      },
      "source": [
        "# Compiling the RNN\n",
        "regressor.compile(optimizer = 'adam', loss = 'mean_squared_error')"
      ],
      "execution_count": 11,
      "outputs": []
    },
    {
      "cell_type": "code",
      "metadata": {
        "id": "C07q4TfsKLpb",
        "colab_type": "code",
        "colab": {
          "base_uri": "https://localhost:8080/",
          "height": 1000
        },
        "outputId": "bbf0c5c4-8a74-4381-b10f-f5559f3dd7d4"
      },
      "source": [
        "# Fitting the RNN to the Training Set\n",
        "regressor.fit(X_train, y_train, epochs = 100, batch_size = 32 )"
      ],
      "execution_count": 12,
      "outputs": [
        {
          "output_type": "stream",
          "text": [
            "Epoch 1/100\n",
            "38/38 [==============================] - 2s 55ms/step - loss: 0.0441\n",
            "Epoch 2/100\n",
            "38/38 [==============================] - 2s 55ms/step - loss: 0.0061\n",
            "Epoch 3/100\n",
            "38/38 [==============================] - 2s 56ms/step - loss: 0.0056\n",
            "Epoch 4/100\n",
            "38/38 [==============================] - 2s 55ms/step - loss: 0.0051\n",
            "Epoch 5/100\n",
            "38/38 [==============================] - 2s 57ms/step - loss: 0.0051\n",
            "Epoch 6/100\n",
            "38/38 [==============================] - 2s 55ms/step - loss: 0.0048\n",
            "Epoch 7/100\n",
            "38/38 [==============================] - 2s 56ms/step - loss: 0.0047\n",
            "Epoch 8/100\n",
            "38/38 [==============================] - 2s 55ms/step - loss: 0.0048\n",
            "Epoch 9/100\n",
            "38/38 [==============================] - 2s 56ms/step - loss: 0.0046\n",
            "Epoch 10/100\n",
            "38/38 [==============================] - 2s 56ms/step - loss: 0.0053\n",
            "Epoch 11/100\n",
            "38/38 [==============================] - 2s 55ms/step - loss: 0.0043\n",
            "Epoch 12/100\n",
            "38/38 [==============================] - 2s 56ms/step - loss: 0.0049\n",
            "Epoch 13/100\n",
            "38/38 [==============================] - 2s 56ms/step - loss: 0.0050\n",
            "Epoch 14/100\n",
            "38/38 [==============================] - 2s 56ms/step - loss: 0.0036\n",
            "Epoch 15/100\n",
            "38/38 [==============================] - 2s 56ms/step - loss: 0.0038\n",
            "Epoch 16/100\n",
            "38/38 [==============================] - 2s 55ms/step - loss: 0.0041\n",
            "Epoch 17/100\n",
            "38/38 [==============================] - 2s 56ms/step - loss: 0.0040\n",
            "Epoch 18/100\n",
            "38/38 [==============================] - 2s 55ms/step - loss: 0.0039\n",
            "Epoch 19/100\n",
            "38/38 [==============================] - 2s 57ms/step - loss: 0.0036\n",
            "Epoch 20/100\n",
            "38/38 [==============================] - 2s 56ms/step - loss: 0.0037\n",
            "Epoch 21/100\n",
            "38/38 [==============================] - 2s 56ms/step - loss: 0.0033\n",
            "Epoch 22/100\n",
            "38/38 [==============================] - 2s 56ms/step - loss: 0.0032\n",
            "Epoch 23/100\n",
            "38/38 [==============================] - 2s 57ms/step - loss: 0.0034\n",
            "Epoch 24/100\n",
            "38/38 [==============================] - 2s 56ms/step - loss: 0.0033\n",
            "Epoch 25/100\n",
            "38/38 [==============================] - 2s 56ms/step - loss: 0.0033\n",
            "Epoch 26/100\n",
            "38/38 [==============================] - 2s 56ms/step - loss: 0.0030\n",
            "Epoch 27/100\n",
            "38/38 [==============================] - 2s 55ms/step - loss: 0.0030\n",
            "Epoch 28/100\n",
            "38/38 [==============================] - 2s 57ms/step - loss: 0.0028\n",
            "Epoch 29/100\n",
            "38/38 [==============================] - 2s 56ms/step - loss: 0.0031\n",
            "Epoch 30/100\n",
            "38/38 [==============================] - 2s 56ms/step - loss: 0.0035\n",
            "Epoch 31/100\n",
            "38/38 [==============================] - 2s 55ms/step - loss: 0.0033\n",
            "Epoch 32/100\n",
            "38/38 [==============================] - 2s 56ms/step - loss: 0.0030\n",
            "Epoch 33/100\n",
            "38/38 [==============================] - 2s 56ms/step - loss: 0.0033\n",
            "Epoch 34/100\n",
            "38/38 [==============================] - 2s 57ms/step - loss: 0.0030\n",
            "Epoch 35/100\n",
            "38/38 [==============================] - 2s 56ms/step - loss: 0.0027\n",
            "Epoch 36/100\n",
            "38/38 [==============================] - 2s 56ms/step - loss: 0.0027\n",
            "Epoch 37/100\n",
            "38/38 [==============================] - 2s 57ms/step - loss: 0.0026\n",
            "Epoch 38/100\n",
            "38/38 [==============================] - 2s 57ms/step - loss: 0.0028\n",
            "Epoch 39/100\n",
            "38/38 [==============================] - 2s 56ms/step - loss: 0.0027\n",
            "Epoch 40/100\n",
            "38/38 [==============================] - 2s 56ms/step - loss: 0.0027\n",
            "Epoch 41/100\n",
            "38/38 [==============================] - 2s 55ms/step - loss: 0.0025\n",
            "Epoch 42/100\n",
            "38/38 [==============================] - 2s 57ms/step - loss: 0.0028\n",
            "Epoch 43/100\n",
            "38/38 [==============================] - 2s 56ms/step - loss: 0.0025\n",
            "Epoch 44/100\n",
            "38/38 [==============================] - 2s 55ms/step - loss: 0.0026\n",
            "Epoch 45/100\n",
            "38/38 [==============================] - 2s 56ms/step - loss: 0.0026\n",
            "Epoch 46/100\n",
            "38/38 [==============================] - 2s 56ms/step - loss: 0.0026\n",
            "Epoch 47/100\n",
            "38/38 [==============================] - 2s 56ms/step - loss: 0.0026\n",
            "Epoch 48/100\n",
            "38/38 [==============================] - 2s 55ms/step - loss: 0.0029\n",
            "Epoch 49/100\n",
            "38/38 [==============================] - 2s 55ms/step - loss: 0.0025\n",
            "Epoch 50/100\n",
            "38/38 [==============================] - 2s 56ms/step - loss: 0.0026\n",
            "Epoch 51/100\n",
            "38/38 [==============================] - 2s 56ms/step - loss: 0.0024\n",
            "Epoch 52/100\n",
            "38/38 [==============================] - 2s 56ms/step - loss: 0.0022\n",
            "Epoch 53/100\n",
            "38/38 [==============================] - 2s 56ms/step - loss: 0.0023\n",
            "Epoch 54/100\n",
            "38/38 [==============================] - 2s 56ms/step - loss: 0.0023\n",
            "Epoch 55/100\n",
            "38/38 [==============================] - 2s 55ms/step - loss: 0.0021\n",
            "Epoch 56/100\n",
            "38/38 [==============================] - 2s 56ms/step - loss: 0.0022\n",
            "Epoch 57/100\n",
            "38/38 [==============================] - 2s 56ms/step - loss: 0.0018\n",
            "Epoch 58/100\n",
            "38/38 [==============================] - 2s 56ms/step - loss: 0.0020\n",
            "Epoch 59/100\n",
            "38/38 [==============================] - 2s 56ms/step - loss: 0.0020\n",
            "Epoch 60/100\n",
            "38/38 [==============================] - 2s 56ms/step - loss: 0.0023\n",
            "Epoch 61/100\n",
            "38/38 [==============================] - 2s 55ms/step - loss: 0.0021\n",
            "Epoch 62/100\n",
            "38/38 [==============================] - 2s 56ms/step - loss: 0.0021\n",
            "Epoch 63/100\n",
            "38/38 [==============================] - 2s 55ms/step - loss: 0.0018\n",
            "Epoch 64/100\n",
            "38/38 [==============================] - 2s 56ms/step - loss: 0.0020\n",
            "Epoch 65/100\n",
            "38/38 [==============================] - 2s 55ms/step - loss: 0.0020\n",
            "Epoch 66/100\n",
            "38/38 [==============================] - 2s 55ms/step - loss: 0.0020\n",
            "Epoch 67/100\n",
            "38/38 [==============================] - 2s 56ms/step - loss: 0.0019\n",
            "Epoch 68/100\n",
            "38/38 [==============================] - 2s 55ms/step - loss: 0.0020\n",
            "Epoch 69/100\n",
            "38/38 [==============================] - 2s 57ms/step - loss: 0.0022\n",
            "Epoch 70/100\n",
            "38/38 [==============================] - 2s 57ms/step - loss: 0.0017\n",
            "Epoch 71/100\n",
            "38/38 [==============================] - 2s 56ms/step - loss: 0.0019\n",
            "Epoch 72/100\n",
            "38/38 [==============================] - 2s 55ms/step - loss: 0.0019\n",
            "Epoch 73/100\n",
            "38/38 [==============================] - 2s 55ms/step - loss: 0.0018\n",
            "Epoch 74/100\n",
            "38/38 [==============================] - 2s 56ms/step - loss: 0.0018\n",
            "Epoch 75/100\n",
            "38/38 [==============================] - 2s 56ms/step - loss: 0.0018\n",
            "Epoch 76/100\n",
            "38/38 [==============================] - 2s 55ms/step - loss: 0.0017\n",
            "Epoch 77/100\n",
            "38/38 [==============================] - 2s 56ms/step - loss: 0.0021\n",
            "Epoch 78/100\n",
            "38/38 [==============================] - 2s 56ms/step - loss: 0.0018\n",
            "Epoch 79/100\n",
            "38/38 [==============================] - 2s 56ms/step - loss: 0.0017\n",
            "Epoch 80/100\n",
            "38/38 [==============================] - 2s 56ms/step - loss: 0.0017\n",
            "Epoch 81/100\n",
            "38/38 [==============================] - 2s 55ms/step - loss: 0.0017\n",
            "Epoch 82/100\n",
            "38/38 [==============================] - 2s 54ms/step - loss: 0.0016\n",
            "Epoch 83/100\n",
            "38/38 [==============================] - 2s 57ms/step - loss: 0.0018\n",
            "Epoch 84/100\n",
            "38/38 [==============================] - 2s 56ms/step - loss: 0.0017\n",
            "Epoch 85/100\n",
            "38/38 [==============================] - 2s 56ms/step - loss: 0.0016\n",
            "Epoch 86/100\n",
            "38/38 [==============================] - 2s 56ms/step - loss: 0.0015\n",
            "Epoch 87/100\n",
            "38/38 [==============================] - 2s 55ms/step - loss: 0.0017\n",
            "Epoch 88/100\n",
            "38/38 [==============================] - 2s 56ms/step - loss: 0.0016\n",
            "Epoch 89/100\n",
            "38/38 [==============================] - 2s 56ms/step - loss: 0.0014\n",
            "Epoch 90/100\n",
            "38/38 [==============================] - 2s 56ms/step - loss: 0.0016\n",
            "Epoch 91/100\n",
            "38/38 [==============================] - 2s 56ms/step - loss: 0.0016\n",
            "Epoch 92/100\n",
            "38/38 [==============================] - 2s 55ms/step - loss: 0.0014\n",
            "Epoch 93/100\n",
            "38/38 [==============================] - 2s 56ms/step - loss: 0.0017\n",
            "Epoch 94/100\n",
            "38/38 [==============================] - 2s 56ms/step - loss: 0.0015\n",
            "Epoch 95/100\n",
            "38/38 [==============================] - 2s 57ms/step - loss: 0.0015\n",
            "Epoch 96/100\n",
            "38/38 [==============================] - 2s 56ms/step - loss: 0.0014\n",
            "Epoch 97/100\n",
            "38/38 [==============================] - 2s 57ms/step - loss: 0.0014\n",
            "Epoch 98/100\n",
            "38/38 [==============================] - 2s 56ms/step - loss: 0.0015\n",
            "Epoch 99/100\n",
            "38/38 [==============================] - 2s 55ms/step - loss: 0.0014\n",
            "Epoch 100/100\n",
            "38/38 [==============================] - 2s 55ms/step - loss: 0.0016\n"
          ],
          "name": "stdout"
        },
        {
          "output_type": "execute_result",
          "data": {
            "text/plain": [
              "<tensorflow.python.keras.callbacks.History at 0x7fbb68ef0550>"
            ]
          },
          "metadata": {
            "tags": []
          },
          "execution_count": 12
        }
      ]
    },
    {
      "cell_type": "code",
      "metadata": {
        "id": "nEyn5eFJKPDy",
        "colab_type": "code",
        "colab": {
          "base_uri": "https://localhost:8080/",
          "height": 357
        },
        "outputId": "a0341459-7e0c-4b1b-d3c9-d4f3b5dc6bf5"
      },
      "source": [
        "# Part - 3 - Making the predictions and visualising the results\n",
        "\n",
        "# Getting the real stock price of 2017\n",
        "dataframe_test = pd.read_csv('/content/drive/My Drive/ML_Dataset/RNN/Google_Stock_Price_Test.csv')\n",
        "real_stock_price = dataframe_test.iloc[:,1:2].values  # made the numpy array\n",
        "print(real_stock_price)"
      ],
      "execution_count": 13,
      "outputs": [
        {
          "output_type": "stream",
          "text": [
            "[[778.81]\n",
            " [788.36]\n",
            " [786.08]\n",
            " [795.26]\n",
            " [806.4 ]\n",
            " [807.86]\n",
            " [805.  ]\n",
            " [807.14]\n",
            " [807.48]\n",
            " [807.08]\n",
            " [805.81]\n",
            " [805.12]\n",
            " [806.91]\n",
            " [807.25]\n",
            " [822.3 ]\n",
            " [829.62]\n",
            " [837.81]\n",
            " [834.71]\n",
            " [814.66]\n",
            " [796.86]]\n"
          ],
          "name": "stdout"
        }
      ]
    },
    {
      "cell_type": "code",
      "metadata": {
        "id": "SVCwbcuSuEIq",
        "colab_type": "code",
        "colab": {
          "base_uri": "https://localhost:8080/",
          "height": 357
        },
        "outputId": "bc9da76c-b232-4d2f-dc02-09d7fa7012ed"
      },
      "source": [
        "# Getting the real stock price of 2017\n",
        "dataframe_total = pd.concat((dataframe_train['Open'], dataframe_test['Open']), axis = 0)\n",
        "inputs = dataframe_total[len(dataframe_total) - len(dataframe_test) - 60:].values\n",
        "inputs = inputs.reshape(-1,1) # reshaping the numpy array for RNN\n",
        "inputs = sc.transform(inputs) # scaling the inputs same as training set, for the RNN, as per requirement\n",
        "X_test = []\n",
        "for i in range(60, 80):\n",
        "    X_test.append(inputs[i-60:i, 0])\n",
        "X_test = np.array(X_test)\n",
        "X_test = np.reshape(X_test, (X_test.shape[0], X_test.shape[1], 1)) # transforming the data set to 3D as per RNN requirement\n",
        "predicted_stock_price = regressor.predict(X_test)\n",
        "predicted_stock_price = sc.inverse_transform(predicted_stock_price)\n",
        "print(predicted_stock_price)"
      ],
      "execution_count": 14,
      "outputs": [
        {
          "output_type": "stream",
          "text": [
            "[[788.367  ]\n",
            " [785.60364]\n",
            " [785.8238 ]\n",
            " [787.2087 ]\n",
            " [790.3373 ]\n",
            " [795.8144 ]\n",
            " [800.77844]\n",
            " [802.67834]\n",
            " [802.9338 ]\n",
            " [802.9222 ]\n",
            " [803.12756]\n",
            " [803.3338 ]\n",
            " [803.4732 ]\n",
            " [804.1221 ]\n",
            " [805.0547 ]\n",
            " [809.44037]\n",
            " [816.0251 ]\n",
            " [822.9728 ]\n",
            " [826.5917 ]\n",
            " [822.4943 ]]\n"
          ],
          "name": "stdout"
        }
      ]
    },
    {
      "cell_type": "code",
      "metadata": {
        "id": "HxBg3InD2H5n",
        "colab_type": "code",
        "colab": {
          "base_uri": "https://localhost:8080/",
          "height": 295
        },
        "outputId": "0176254a-916a-422a-a5c2-46e015f11836"
      },
      "source": [
        "# Visualising the results\n",
        "plt.plot(real_stock_price, color = 'red', label = 'real google stock price')\n",
        "plt.plot(predicted_stock_price, color = 'blue', label = 'predicted google stock price')\n",
        "plt.title('Stock price prediction')\n",
        "plt.xlabel('time spam')\n",
        "plt.ylabel('stock price of google')\n",
        "plt.legend()\n",
        "plt.show()"
      ],
      "execution_count": 15,
      "outputs": [
        {
          "output_type": "display_data",
          "data": {
            "image/png": "[encoded data removed]",
            "text/plain": [
              "<Figure size 432x288 with 1 Axes>"
            ]
          },
          "metadata": {
            "tags": [],
            "needs_background": "light"
          }
        }
      ]
    },
    {
      "cell_type": "code",
      "metadata": {
        "id": "RjK_nstB3HDc",
        "colab_type": "code",
        "colab": {
          "base_uri": "https://localhost:8080/",
          "height": 34
        },
        "outputId": "7b88a152-fca2-405e-d8ff-0dc16cb4c6df"
      },
      "source": [
        "import math\n",
        "from sklearn.metrics import mean_squared_error\n",
        "rmse = math.sqrt(mean_squared_error(real_stock_price, predicted_stock_price))\n",
        "print(rmse)"
      ],
      "execution_count": 16,
      "outputs": [
        {
          "output_type": "stream",
          "text": [
            "11.813218285798293\n"
          ],
          "name": "stdout"
        }
      ]
    },
    {
      "cell_type": "code",
      "metadata": {
        "id": "OvAh5ohC53UK",
        "colab_type": "code",
        "colab": {
          "base_uri": "https://localhost:8080/",
          "height": 34
        },
        "outputId": "4b6129fb-b592-403c-fe22-516fff057a43"
      },
      "source": [
        "print(rmse/837)"
      ],
      "execution_count": 17,
      "outputs": [
        {
          "output_type": "stream",
          "text": [
            "0.0141137613928295\n"
          ],
          "name": "stdout"
        }
      ]
    },
    {
      "cell_type": "code",
      "metadata": {
        "id": "nVbXI7wB6aSh",
        "colab_type": "code",
        "colab": {}
      },
      "source": [
        ""
      ],
      "execution_count": 17,
      "outputs": []
    }
  ]
}